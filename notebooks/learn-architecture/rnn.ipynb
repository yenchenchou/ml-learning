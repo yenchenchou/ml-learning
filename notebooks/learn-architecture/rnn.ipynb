{
 "cells": [
  {
   "cell_type": "code",
   "execution_count": 230,
   "metadata": {},
   "outputs": [],
   "source": [
    "import os\n",
    "os.chdir(\"/Users/yenchenchou/Documents/GitHub/recsys-benchmarks\")"
   ]
  },
  {
   "cell_type": "code",
   "execution_count": 231,
   "metadata": {},
   "outputs": [],
   "source": [
    "import random\n",
    "import polars as pl\n",
    "import pandas as pd\n",
    "import numpy as np\n",
    "import torch\n",
    "from torch import nn\n",
    "from torch.utils.data import Dataset, DataLoader\n",
    "from torchvision import datasets\n",
    "\n",
    "from src import EnvInit"
   ]
  },
  {
   "cell_type": "code",
   "execution_count": 232,
   "metadata": {},
   "outputs": [],
   "source": [
    "env_init = EnvInit()\n",
    "seed = env_init.fix_seed(12345)"
   ]
  },
  {
   "cell_type": "code",
   "execution_count": 250,
   "metadata": {},
   "outputs": [
    {
     "name": "stdout",
     "output_type": "stream",
     "text": [
      "Output from MyRNNV3: tensor([[[0.4049, 0.8368, 0.7817, 0.4895],\n",
      "         [0.4049, 0.8368, 0.7817, 0.4895],\n",
      "         [0.4049, 0.8368, 0.7817, 0.4895]],\n",
      "\n",
      "        [[0.1583, 0.7447, 0.9042, 0.3796],\n",
      "         [0.1583, 0.7447, 0.9042, 0.3796],\n",
      "         [0.1583, 0.7447, 0.9042, 0.3796]]], grad_fn=<StackBackward0>)\n",
      "Output from MyRNNV2: tensor([[[ 0.3443,  0.0808, -0.6759, -0.1231],\n",
      "         [ 0.3443,  0.0808, -0.6759, -0.1231],\n",
      "         [ 0.3443,  0.0808, -0.6759, -0.1231]],\n",
      "\n",
      "        [[ 0.3443,  0.0808, -0.6759, -0.1231],\n",
      "         [ 0.3443,  0.0808, -0.6759, -0.1231],\n",
      "         [ 0.3443,  0.0808, -0.6759, -0.1231]]], grad_fn=<TanhBackward0>)\n",
      "Output from MyRNN: tensor([[[ 0.3443,  0.0808, -0.6759, -0.1231],\n",
      "         [ 0.3443,  0.0808, -0.6759, -0.1231],\n",
      "         [ 0.3443,  0.0808, -0.6759, -0.1231]],\n",
      "\n",
      "        [[ 0.3443,  0.0808, -0.6759, -0.1231],\n",
      "         [ 0.3443,  0.0808, -0.6759, -0.1231],\n",
      "         [ 0.3443,  0.0808, -0.6759, -0.1231]]], grad_fn=<TanhBackward0>)\n"
     ]
    }
   ],
   "source": [
    "class MyRNN(nn.Module):\n",
    "    \"\"\"Near from scratch, need to manually pass the output to\n",
    "    subsequencial input if we want to train models.\n",
    "\n",
    "    Args:\n",
    "        nn (_type_): _description_\n",
    "    \"\"\"\n",
    "\n",
    "    def __init__(self, input_size, hidden_size):\n",
    "        super(MyRNN, self).__init__()\n",
    "        self.w_ih = nn.Parameter(torch.randn(hidden_size, input_size))\n",
    "        self.b_ih = nn.Parameter(torch.zeros(hidden_size))  # Set biases to zero\n",
    "        self.w_hh = nn.Parameter(torch.randn(hidden_size, hidden_size))\n",
    "        self.b_hh = nn.Parameter(torch.zeros(hidden_size))  # Set biases to zero\n",
    "\n",
    "    def forward(self, x, h_0):\n",
    "        w_ih = x @ self.w_ih.T + self.b_ih\n",
    "        w_hh = h_0 @ self.w_hh.T + self.b_hh\n",
    "        output = torch.tanh(w_ih + w_hh)\n",
    "        return output, w_hh\n",
    "\n",
    "\n",
    "class MyRNNV2(nn.Module):\n",
    "    \"\"\"Use nn.Linear to do the manually pass work\n",
    "\n",
    "    Args:\n",
    "        nn (_type_): _description_\n",
    "    \"\"\"\n",
    "\n",
    "    def __init__(self, input_size, hidden_size):\n",
    "        super(MyRNNV2, self).__init__()\n",
    "        self.ih = nn.Linear(input_size, hidden_size, bias=False)\n",
    "        self.hh = nn.Linear(hidden_size, hidden_size, bias=False)\n",
    "\n",
    "    def forward(self, x, h_0):\n",
    "        w_ih = self.ih(x)\n",
    "        w_hh = self.hh(h_0)\n",
    "        output = torch.tanh(w_ih + w_hh)\n",
    "        return output, w_hh\n",
    "\n",
    "\n",
    "class MyRNNV3(nn.Module):\n",
    "    def __init__(self, input_size, hidden_size):\n",
    "        super(MyRNNV3, self).__init__()\n",
    "        self.rnn = nn.RNN(input_size, hidden_size)\n",
    "\n",
    "    def forward(self, x, h_0):\n",
    "        output, w_hh = self.rnn(x, h_0)\n",
    "        return output, w_hh\n",
    "\n",
    "\n",
    "# Initialize models\n",
    "input_size = 2\n",
    "hidden_size = 4\n",
    "model_v3 = MyRNNV3(input_size, hidden_size)\n",
    "model_v2 = MyRNNV2(input_size, hidden_size)\n",
    "model = MyRNN(input_size, hidden_size)\n",
    "\n",
    "# Set identical weights and zero biases\n",
    "model.w_ih.data = model_v2.ih.weight.data.clone()\n",
    "model.w_hh.data = model_v2.hh.weight.data.clone()\n",
    "\n",
    "# Test with random input and initial hidden state\n",
    "# seq_length, batch, hidden_size\n",
    "x = torch.ones(2, 3, 2)\n",
    "h_0 = torch.zeros(1, 3, 4)\n",
    "output_v3, _ = model_v3(x, h_0)\n",
    "output_v2, _ = model_v2(x, h_0)\n",
    "output, _ = model(x, h_0)\n",
    "\n",
    "print(\"Output from MyRNNV3:\", output_v3)\n",
    "print(\"Output from MyRNNV2:\", output_v2)\n",
    "print(\"Output from MyRNN:\", output)"
   ]
  }
 ],
 "metadata": {
  "kernelspec": {
   "display_name": "ml",
   "language": "python",
   "name": "python3"
  },
  "language_info": {
   "codemirror_mode": {
    "name": "ipython",
    "version": 3
   },
   "file_extension": ".py",
   "mimetype": "text/x-python",
   "name": "python",
   "nbconvert_exporter": "python",
   "pygments_lexer": "ipython3",
   "version": "3.1.0"
  }
 },
 "nbformat": 4,
 "nbformat_minor": 2
}
