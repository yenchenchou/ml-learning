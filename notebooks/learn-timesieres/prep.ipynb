{
 "cells": [
  {
   "cell_type": "code",
   "execution_count": 1,
   "metadata": {},
   "outputs": [],
   "source": [
    "import os\n",
    "os.chdir(\"/Users/yenchenchou/Documents/GitHub/ml-learning\")"
   ]
  },
  {
   "cell_type": "code",
   "execution_count": 3,
   "metadata": {},
   "outputs": [],
   "source": [
    "import random\n",
    "import numpy as np\n",
    "import pandas as pd\n",
    "import polars as pl\n",
    "import matplotlib.pyplot as plt\n",
    "import seaborn as sns\n",
    "import time\n",
    "import torch\n",
    "import torch.nn as nn\n",
    "\n",
    "from math import sqrt\n",
    "from numpy import loadtxt\n",
    "from itertools import product\n",
    "from tqdm import tqdm\n",
    "from sklearn import preprocessing\n",
    "from xgboost import plot_tree\n",
    "from matplotlib import pyplot\n",
    "\n",
    "from sklearn.model_selection import train_test_split\n",
    "from sklearn.metrics import accuracy_score\n",
    "from sklearn.metrics import mean_squared_error\n",
    "from sklearn.model_selection import KFold\n",
    "from sklearn.feature_extraction.text import TfidfVectorizer\n",
    "\n",
    "kernel_with_output = False\n",
    "\n",
    "from src import EnvInit"
   ]
  },
  {
   "cell_type": "code",
   "execution_count": 4,
   "metadata": {},
   "outputs": [
    {
     "data": {
      "text/plain": [
       "(device(type='mps'), 13317)"
      ]
     },
     "execution_count": 4,
     "metadata": {},
     "output_type": "execute_result"
    }
   ],
   "source": [
    "env_init = EnvInit()\n",
    "device = env_init.available_device()\n",
    "seed = env_init.fix_seed(13317)\n",
    "device, seed"
   ]
  },
  {
   "cell_type": "code",
   "execution_count": 13,
   "metadata": {},
   "outputs": [],
   "source": [
    "train = pl.read_csv(\"data/PredictFutureSales/sales_train.csv\")\n",
    "items = pl.read_csv(\"data/PredictFutureSales/items.csv\")\n",
    "shops = pl.read_csv(\"data/PredictFutureSales/shops.csv\")\n",
    "categories = pl.read_csv(\"data/PredictFutureSales/item_categories.csv\")\n",
    "test = pl.read_csv(\"data/PredictFutureSales/test.csv\")\n",
    "# sample_submission = pd.read_csv(\"data/PredictFutureSales/sample_submission.csv\")"
   ]
  },
  {
   "cell_type": "code",
   "execution_count": 14,
   "metadata": {},
   "outputs": [
    {
     "name": "stdout",
     "output_type": "stream",
     "text": [
      "(2935849, 6)\n"
     ]
    },
    {
     "data": {
      "text/html": [
       "<div><style>\n",
       ".dataframe > thead > tr,\n",
       ".dataframe > tbody > tr {\n",
       "  text-align: right;\n",
       "  white-space: pre-wrap;\n",
       "}\n",
       "</style>\n",
       "<small>shape: (2, 6)</small><table border=\"1\" class=\"dataframe\"><thead><tr><th>date</th><th>date_block_num</th><th>shop_id</th><th>item_id</th><th>item_price</th><th>item_cnt_day</th></tr><tr><td>str</td><td>i64</td><td>i64</td><td>i64</td><td>f64</td><td>f64</td></tr></thead><tbody><tr><td>&quot;02.01.2013&quot;</td><td>0</td><td>59</td><td>22154</td><td>999.0</td><td>1.0</td></tr><tr><td>&quot;03.01.2013&quot;</td><td>0</td><td>25</td><td>2552</td><td>899.0</td><td>1.0</td></tr></tbody></table></div>"
      ],
      "text/plain": [
       "shape: (2, 6)\n",
       "┌────────────┬────────────────┬─────────┬─────────┬────────────┬──────────────┐\n",
       "│ date       ┆ date_block_num ┆ shop_id ┆ item_id ┆ item_price ┆ item_cnt_day │\n",
       "│ ---        ┆ ---            ┆ ---     ┆ ---     ┆ ---        ┆ ---          │\n",
       "│ str        ┆ i64            ┆ i64     ┆ i64     ┆ f64        ┆ f64          │\n",
       "╞════════════╪════════════════╪═════════╪═════════╪════════════╪══════════════╡\n",
       "│ 02.01.2013 ┆ 0              ┆ 59      ┆ 22154   ┆ 999.0      ┆ 1.0          │\n",
       "│ 03.01.2013 ┆ 0              ┆ 25      ┆ 2552    ┆ 899.0      ┆ 1.0          │\n",
       "└────────────┴────────────────┴─────────┴─────────┴────────────┴──────────────┘"
      ]
     },
     "execution_count": 14,
     "metadata": {},
     "output_type": "execute_result"
    }
   ],
   "source": [
    "print(train.shape)\n",
    "train.head(2)"
   ]
  },
  {
   "cell_type": "code",
   "execution_count": 15,
   "metadata": {},
   "outputs": [
    {
     "data": {
      "text/html": [
       "<div><style>\n",
       ".dataframe > thead > tr,\n",
       ".dataframe > tbody > tr {\n",
       "  text-align: right;\n",
       "  white-space: pre-wrap;\n",
       "}\n",
       "</style>\n",
       "<small>shape: (2, 3)</small><table border=\"1\" class=\"dataframe\"><thead><tr><th>item_name</th><th>item_id</th><th>item_category_id</th></tr><tr><td>str</td><td>i64</td><td>i64</td></tr></thead><tbody><tr><td>&quot;! ВО ВЛАСТИ НА…</td><td>0</td><td>40</td></tr><tr><td>&quot;!ABBYY FineRea…</td><td>1</td><td>76</td></tr></tbody></table></div>"
      ],
      "text/plain": [
       "shape: (2, 3)\n",
       "┌───────────────────────────────────┬─────────┬──────────────────┐\n",
       "│ item_name                         ┆ item_id ┆ item_category_id │\n",
       "│ ---                               ┆ ---     ┆ ---              │\n",
       "│ str                               ┆ i64     ┆ i64              │\n",
       "╞═══════════════════════════════════╪═════════╪══════════════════╡\n",
       "│ ! ВО ВЛАСТИ НАВАЖДЕНИЯ (ПЛАСТ.) … ┆ 0       ┆ 40               │\n",
       "│ !ABBYY FineReader 12 Professiona… ┆ 1       ┆ 76               │\n",
       "└───────────────────────────────────┴─────────┴──────────────────┘"
      ]
     },
     "execution_count": 15,
     "metadata": {},
     "output_type": "execute_result"
    }
   ],
   "source": [
    "items.head(2)"
   ]
  },
  {
   "cell_type": "code",
   "execution_count": 16,
   "metadata": {},
   "outputs": [
    {
     "data": {
      "text/html": [
       "<div><style>\n",
       ".dataframe > thead > tr,\n",
       ".dataframe > tbody > tr {\n",
       "  text-align: right;\n",
       "  white-space: pre-wrap;\n",
       "}\n",
       "</style>\n",
       "<small>shape: (2, 2)</small><table border=\"1\" class=\"dataframe\"><thead><tr><th>shop_name</th><th>shop_id</th></tr><tr><td>str</td><td>i64</td></tr></thead><tbody><tr><td>&quot;!Якутск Орджон…</td><td>0</td></tr><tr><td>&quot;!Якутск ТЦ &quot;Це…</td><td>1</td></tr></tbody></table></div>"
      ],
      "text/plain": [
       "shape: (2, 2)\n",
       "┌───────────────────────────────┬─────────┐\n",
       "│ shop_name                     ┆ shop_id │\n",
       "│ ---                           ┆ ---     │\n",
       "│ str                           ┆ i64     │\n",
       "╞═══════════════════════════════╪═════════╡\n",
       "│ !Якутск Орджоникидзе, 56 фран ┆ 0       │\n",
       "│ !Якутск ТЦ \"Центральный\" фран ┆ 1       │\n",
       "└───────────────────────────────┴─────────┘"
      ]
     },
     "execution_count": 16,
     "metadata": {},
     "output_type": "execute_result"
    }
   ],
   "source": [
    "shops.head(2)"
   ]
  },
  {
   "cell_type": "code",
   "execution_count": 17,
   "metadata": {},
   "outputs": [
    {
     "data": {
      "text/html": [
       "<div><style>\n",
       ".dataframe > thead > tr,\n",
       ".dataframe > tbody > tr {\n",
       "  text-align: right;\n",
       "  white-space: pre-wrap;\n",
       "}\n",
       "</style>\n",
       "<small>shape: (2, 2)</small><table border=\"1\" class=\"dataframe\"><thead><tr><th>item_category_name</th><th>item_category_id</th></tr><tr><td>str</td><td>i64</td></tr></thead><tbody><tr><td>&quot;PC - Гарнитуры…</td><td>0</td></tr><tr><td>&quot;Аксессуары - P…</td><td>1</td></tr></tbody></table></div>"
      ],
      "text/plain": [
       "shape: (2, 2)\n",
       "┌─────────────────────────┬──────────────────┐\n",
       "│ item_category_name      ┆ item_category_id │\n",
       "│ ---                     ┆ ---              │\n",
       "│ str                     ┆ i64              │\n",
       "╞═════════════════════════╪══════════════════╡\n",
       "│ PC - Гарнитуры/Наушники ┆ 0                │\n",
       "│ Аксессуары - PS2        ┆ 1                │\n",
       "└─────────────────────────┴──────────────────┘"
      ]
     },
     "execution_count": 17,
     "metadata": {},
     "output_type": "execute_result"
    }
   ],
   "source": [
    "categories.head(2)"
   ]
  },
  {
   "cell_type": "code",
   "execution_count": 18,
   "metadata": {},
   "outputs": [
    {
     "data": {
      "text/html": [
       "<div><style>\n",
       ".dataframe > thead > tr,\n",
       ".dataframe > tbody > tr {\n",
       "  text-align: right;\n",
       "  white-space: pre-wrap;\n",
       "}\n",
       "</style>\n",
       "<small>shape: (2, 3)</small><table border=\"1\" class=\"dataframe\"><thead><tr><th>ID</th><th>shop_id</th><th>item_id</th></tr><tr><td>i64</td><td>i64</td><td>i64</td></tr></thead><tbody><tr><td>0</td><td>5</td><td>5037</td></tr><tr><td>1</td><td>5</td><td>5320</td></tr></tbody></table></div>"
      ],
      "text/plain": [
       "shape: (2, 3)\n",
       "┌─────┬─────────┬─────────┐\n",
       "│ ID  ┆ shop_id ┆ item_id │\n",
       "│ --- ┆ ---     ┆ ---     │\n",
       "│ i64 ┆ i64     ┆ i64     │\n",
       "╞═════╪═════════╪═════════╡\n",
       "│ 0   ┆ 5       ┆ 5037    │\n",
       "│ 1   ┆ 5       ┆ 5320    │\n",
       "└─────┴─────────┴─────────┘"
      ]
     },
     "execution_count": 18,
     "metadata": {},
     "output_type": "execute_result"
    }
   ],
   "source": [
    "test.head(2)"
   ]
  },
  {
   "cell_type": "code",
   "execution_count": null,
   "metadata": {},
   "outputs": [],
   "source": [
    "class Preprocessor:\n",
    "    def get_monthly_data(self):\n",
    "        pass"
   ]
  },
  {
   "cell_type": "code",
   "execution_count": 12,
   "metadata": {},
   "outputs": [
    {
     "name": "stdout",
     "output_type": "stream",
     "text": [
      "2.33 s ± 9.69 ms per loop (mean ± std. dev. of 7 runs, 1 loop each)\n"
     ]
    }
   ],
   "source": [
    "%%timeit\n",
    "grid = []\n",
    "for block_num in train['date_block_num'].unique():\n",
    "    cur_shops = train[train['date_block_num']==block_num]['shop_id'].unique()\n",
    "    cur_items = train[train['date_block_num']==block_num]['item_id'].unique()\n",
    "    grid.append(np.array(list(product(*[cur_shops, cur_items, [block_num]])),dtype='int32'))\n",
    "index_cols = ['shop_id', 'item_id', 'date_block_num']\n",
    "grid = pd.DataFrame(np.vstack(grid), columns = index_cols,dtype=np.int32)\n",
    "\n",
    "# # Aggregations\n",
    "# sales_train['item_cnt_day'] = sales_train['item_cnt_day'].clip(0,20)\n",
    "# groups = sales_train.groupby(['shop_id', 'item_id', 'date_block_num'])\n",
    "# trainset = groups.agg({'item_cnt_day':'sum', 'item_price':'mean'}).reset_index()\n",
    "# trainset = trainset.rename(columns = {'item_cnt_day' : 'item_cnt_month'})\n",
    "# trainset['item_cnt_month'] = trainset['item_cnt_month'].clip(0,20)\n",
    "\n",
    "# trainset = pd.merge(grid,trainset,how='left',on=index_cols)\n",
    "# trainset.item_cnt_month = trainset.item_cnt_month.fillna(0)\n",
    "\n",
    "# # Get category id\n",
    "# trainset = pd.merge(trainset, items[['item_id', 'item_category_id']], on = 'item_id')\n",
    "# trainset.to_csv('trainset_with_grid.csv')\n",
    "\n",
    "# trainset.head()"
   ]
  }
 ],
 "metadata": {
  "kernelspec": {
   "display_name": "ml",
   "language": "python",
   "name": "python3"
  },
  "language_info": {
   "codemirror_mode": {
    "name": "ipython",
    "version": 3
   },
   "file_extension": ".py",
   "mimetype": "text/x-python",
   "name": "python",
   "nbconvert_exporter": "python",
   "pygments_lexer": "ipython3",
   "version": "3.10.13"
  }
 },
 "nbformat": 4,
 "nbformat_minor": 2
}
