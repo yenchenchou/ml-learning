{
 "cells": [
  {
   "cell_type": "markdown",
   "metadata": {},
   "source": [
    "## Steps\n",
    "1. Reproducing kaggle https://www.kaggle.com/code/jamesloy/deep-learning-based-recommender-systems\n",
    "2. Recreate all models in neural collaborative filtering"
   ]
  },
  {
   "cell_type": "code",
   "execution_count": 1,
   "metadata": {},
   "outputs": [],
   "source": [
    "import os\n",
    "\n",
    "os.chdir(\"/Users/yenchenchou/Documents/GitHub/recsys-benchmarks\")"
   ]
  },
  {
   "cell_type": "code",
   "execution_count": 2,
   "metadata": {},
   "outputs": [],
   "source": [
    "import random\n",
    "import polars as pl\n",
    "import pandas as pd\n",
    "import numpy as np\n",
    "import torch\n",
    "from torch import nn\n",
    "from torch.utils.data import Dataset, DataLoader\n",
    "from torchvision import datasets"
   ]
  },
  {
   "cell_type": "code",
   "execution_count": 3,
   "metadata": {},
   "outputs": [],
   "source": [
    "a = torch.tensor([0,1])\n",
    "b = torch.tensor([[1,0], [1,0]])"
   ]
  },
  {
   "cell_type": "code",
   "execution_count": 4,
   "metadata": {},
   "outputs": [
    {
     "data": {
      "text/plain": [
       "tensor([[1, 1],\n",
       "        [1, 1]])"
      ]
     },
     "execution_count": 4,
     "metadata": {},
     "output_type": "execute_result"
    }
   ],
   "source": [
    "a + b"
   ]
  },
  {
   "cell_type": "code",
   "execution_count": 34,
   "metadata": {},
   "outputs": [],
   "source": [
    "rnn = nn.RNN(4, 6, 2)\n",
    "input = torch.randn(5, 3, 4)\n",
    "h0 = torch.randn(2, 3, 6)\n",
    "output, hn = rnn(input, h0)"
   ]
  },
  {
   "cell_type": "code",
   "execution_count": 37,
   "metadata": {},
   "outputs": [
    {
     "data": {
      "text/plain": [
       "torch.Size([5, 3, 6])"
      ]
     },
     "execution_count": 37,
     "metadata": {},
     "output_type": "execute_result"
    }
   ],
   "source": [
    "output.shape"
   ]
  },
  {
   "cell_type": "code",
   "execution_count": 40,
   "metadata": {},
   "outputs": [
    {
     "data": {
      "text/plain": [
       "tensor([[[-0.0190, -0.0970, -0.3689,  0.4663, -0.3287,  0.0695],\n",
       "         [ 0.3703,  0.1498, -0.1245,  0.1470, -0.1001,  0.6173],\n",
       "         [-0.0416,  0.1351,  0.6027,  0.2984,  0.1480,  0.0488]],\n",
       "\n",
       "        [[ 0.6485, -0.0534, -0.2013,  0.0575,  0.3006,  0.2300],\n",
       "         [ 0.3248,  0.0816, -0.0351, -0.0488,  0.4219,  0.3162],\n",
       "         [ 0.4656,  0.0340, -0.3150,  0.3634,  0.4965,  0.2523]]],\n",
       "       grad_fn=<StackBackward0>)"
      ]
     },
     "execution_count": 40,
     "metadata": {},
     "output_type": "execute_result"
    }
   ],
   "source": [
    "hn"
   ]
  },
  {
   "cell_type": "code",
   "execution_count": 35,
   "metadata": {},
   "outputs": [
    {
     "name": "stdout",
     "output_type": "stream",
     "text": [
      "weight_ih_l0 Parameter containing:\n",
      "tensor([[ 0.1921, -0.1023, -0.1472, -0.1098],\n",
      "        [-0.0159, -0.3776, -0.2007, -0.0532],\n",
      "        [ 0.3471,  0.3105, -0.3979,  0.1555],\n",
      "        [-0.2655, -0.2632,  0.1633,  0.3992],\n",
      "        [ 0.0216,  0.0587, -0.1684, -0.3373],\n",
      "        [-0.1523, -0.3571,  0.2357, -0.0322]], requires_grad=True)\n",
      "weight_hh_l0 Parameter containing:\n",
      "tensor([[-3.7485e-01, -3.9554e-01,  1.4590e-01, -5.8184e-02,  2.1411e-01,\n",
      "          2.0833e-01],\n",
      "        [-3.1138e-01, -3.6741e-01,  2.5246e-01, -1.5210e-01,  3.6096e-04,\n",
      "          3.4081e-01],\n",
      "        [ 3.4347e-01,  2.2671e-01, -1.1795e-01,  4.0751e-01,  3.2784e-01,\n",
      "          5.6462e-02],\n",
      "        [-2.7326e-01,  2.1881e-01,  4.0671e-01, -7.2140e-02, -1.7530e-01,\n",
      "         -5.9384e-02],\n",
      "        [-1.5332e-01,  3.8037e-01, -3.4873e-01, -3.4284e-01, -3.1794e-03,\n",
      "         -2.1007e-01],\n",
      "        [-3.6784e-02,  2.2802e-01,  3.6104e-01,  1.3276e-02,  7.8464e-02,\n",
      "         -1.4848e-01]], requires_grad=True)\n",
      "bias_ih_l0 Parameter containing:\n",
      "tensor([-0.0603, -0.1968, -0.1988, -0.4066,  0.2981,  0.1826],\n",
      "       requires_grad=True)\n",
      "bias_hh_l0 Parameter containing:\n",
      "tensor([ 0.2291,  0.0877,  0.3481,  0.3444,  0.0862, -0.0272],\n",
      "       requires_grad=True)\n",
      "weight_ih_l1 Parameter containing:\n",
      "tensor([[ 0.0609, -0.3450,  0.0297,  0.2927, -0.0598, -0.3690],\n",
      "        [ 0.3209,  0.1428, -0.2193, -0.2985,  0.2301, -0.3675],\n",
      "        [ 0.1506, -0.0798, -0.1238,  0.0042, -0.0459,  0.3631],\n",
      "        [-0.3099,  0.1206,  0.2926, -0.3093, -0.2426, -0.2373],\n",
      "        [-0.0716, -0.1210,  0.3763, -0.2702, -0.3856,  0.1480],\n",
      "        [-0.0230,  0.1644,  0.0848, -0.3828,  0.1323,  0.1487]],\n",
      "       requires_grad=True)\n",
      "weight_hh_l1 Parameter containing:\n",
      "tensor([[ 0.2540,  0.0703,  0.2712,  0.1829,  0.2726, -0.2968],\n",
      "        [ 0.3921,  0.1778, -0.0255,  0.1408, -0.1720,  0.1003],\n",
      "        [-0.0549,  0.1636,  0.2987, -0.3575, -0.0988, -0.1776],\n",
      "        [-0.0311,  0.0451,  0.0636, -0.2039, -0.1217,  0.0462],\n",
      "        [ 0.2534,  0.1189,  0.0699,  0.1143, -0.1364, -0.0104],\n",
      "        [ 0.1952, -0.3970, -0.3681,  0.0231,  0.0396,  0.1631]],\n",
      "       requires_grad=True)\n",
      "bias_ih_l1 Parameter containing:\n",
      "tensor([ 0.2043, -0.2966, -0.2938,  0.0635,  0.1368,  0.0942],\n",
      "       requires_grad=True)\n",
      "bias_hh_l1 Parameter containing:\n",
      "tensor([0.2218, 0.2857, 0.2491, 0.3053, 0.2449, 0.0182], requires_grad=True)\n"
     ]
    }
   ],
   "source": [
    "for name, p in rnn.named_parameters():\n",
    "    print(name, p)"
   ]
  },
  {
   "cell_type": "code",
   "execution_count": 29,
   "metadata": {},
   "outputs": [
    {
     "data": {
      "text/plain": [
       "tensor([[[ 0.5393, -0.9091,  0.9402, -1.4900,  0.1866, -0.3970],\n",
       "         [ 0.0562,  1.8954, -1.5275, -0.6741,  0.0876, -0.4109],\n",
       "         [ 0.2122,  0.9042,  1.3288,  0.0218, -0.6126, -1.2201]]])"
      ]
     },
     "execution_count": 29,
     "metadata": {},
     "output_type": "execute_result"
    }
   ],
   "source": [
    "h0"
   ]
  },
  {
   "cell_type": "code",
   "execution_count": 30,
   "metadata": {},
   "outputs": [
    {
     "data": {
      "text/plain": [
       "tensor([[[-0.0703, -0.1515, -0.4850, -0.8797, -0.8236,  0.4887],\n",
       "         [-0.8354,  0.9541,  0.7582,  0.0332,  0.3140,  0.0116],\n",
       "         [ 0.2374,  0.6054, -0.2692, -0.7329,  0.0626, -0.3358]],\n",
       "\n",
       "        [[-0.3125, -0.5395,  0.2788, -0.3241,  0.5325,  0.3993],\n",
       "         [ 0.8191, -0.0661,  0.6571, -0.8298,  0.6776,  0.3198],\n",
       "         [ 0.1874,  0.4300,  0.1034, -0.7347, -0.3388,  0.4242]],\n",
       "\n",
       "        [[ 0.3521,  0.1150, -0.2523, -0.8367, -0.2562,  0.8334],\n",
       "         [ 0.0030,  0.5310, -0.6974, -0.8220, -0.6874,  0.6507],\n",
       "         [-0.1303,  0.3852, -0.3412, -0.3859, -0.4627,  0.2651]],\n",
       "\n",
       "        [[-0.6936,  0.4551, -0.3243,  0.2684, -0.6356, -0.2093],\n",
       "         [ 0.2645, -0.5352,  0.3698, -0.4584,  0.5627,  0.4910],\n",
       "         [-0.4694,  0.1697,  0.4721, -0.0384,  0.2498,  0.0185]],\n",
       "\n",
       "        [[ 0.1964,  0.4399,  0.0150, -0.3440,  0.2403,  0.1750],\n",
       "         [-0.8032,  0.7423, -0.2932, -0.2237, -0.7556,  0.3850],\n",
       "         [ 0.4888,  0.0246,  0.3506, -0.6491, -0.0554,  0.1433]]],\n",
       "       grad_fn=<StackBackward0>)"
      ]
     },
     "execution_count": 30,
     "metadata": {},
     "output_type": "execute_result"
    }
   ],
   "source": [
    "output"
   ]
  },
  {
   "cell_type": "code",
   "execution_count": 31,
   "metadata": {},
   "outputs": [
    {
     "data": {
      "text/plain": [
       "tensor([[[ 0.1964,  0.4399,  0.0150, -0.3440,  0.2403,  0.1750],\n",
       "         [-0.8032,  0.7423, -0.2932, -0.2237, -0.7556,  0.3850],\n",
       "         [ 0.4888,  0.0246,  0.3506, -0.6491, -0.0554,  0.1433]]],\n",
       "       grad_fn=<StackBackward0>)"
      ]
     },
     "execution_count": 31,
     "metadata": {},
     "output_type": "execute_result"
    }
   ],
   "source": [
    "hn"
   ]
  },
  {
   "cell_type": "code",
   "execution_count": 42,
   "metadata": {},
   "outputs": [],
   "source": [
    "rnn = nn.RNN(4, 2)\n",
    "x = torch.randn(5, 3, 4)\n",
    "ho = torch.zeros(1, 3, 2)"
   ]
  },
  {
   "cell_type": "code",
   "execution_count": 45,
   "metadata": {},
   "outputs": [],
   "source": [
    "output, hn = rnn(x, ho)"
   ]
  },
  {
   "cell_type": "code",
   "execution_count": 46,
   "metadata": {},
   "outputs": [
    {
     "data": {
      "text/plain": [
       "tensor([[[-0.9245,  0.9471],\n",
       "         [ 0.1771, -0.6176],\n",
       "         [-0.6732, -0.6043]],\n",
       "\n",
       "        [[-0.3165, -0.0583],\n",
       "         [-0.5062, -0.5569],\n",
       "         [-0.3195, -0.3139]],\n",
       "\n",
       "        [[-0.0111,  0.3180],\n",
       "         [ 0.4852, -0.3483],\n",
       "         [-0.3556, -0.6856]],\n",
       "\n",
       "        [[-0.9428,  0.6842],\n",
       "         [ 0.5917, -0.4573],\n",
       "         [-0.4848,  0.3325]],\n",
       "\n",
       "        [[ 0.6976, -0.3138],\n",
       "         [ 0.4942,  0.4296],\n",
       "         [-0.5441, -0.4838]]], grad_fn=<StackBackward0>)"
      ]
     },
     "execution_count": 46,
     "metadata": {},
     "output_type": "execute_result"
    }
   ],
   "source": [
    "output"
   ]
  },
  {
   "cell_type": "code",
   "execution_count": 47,
   "metadata": {},
   "outputs": [
    {
     "data": {
      "text/plain": [
       "tensor([[[ 0.6976, -0.3138],\n",
       "         [ 0.4942,  0.4296],\n",
       "         [-0.5441, -0.4838]]], grad_fn=<StackBackward0>)"
      ]
     },
     "execution_count": 47,
     "metadata": {},
     "output_type": "execute_result"
    }
   ],
   "source": [
    "hn"
   ]
  },
  {
   "cell_type": "code",
   "execution_count": null,
   "metadata": {},
   "outputs": [],
   "source": []
  }
 ],
 "metadata": {
  "kernelspec": {
   "display_name": "Python 3",
   "language": "python",
   "name": "python3"
  },
  "language_info": {
   "codemirror_mode": {
    "name": "ipython",
    "version": 3
   },
   "file_extension": ".py",
   "mimetype": "text/x-python",
   "name": "python",
   "nbconvert_exporter": "python",
   "pygments_lexer": "ipython3",
   "version": "3.10.13"
  }
 },
 "nbformat": 4,
 "nbformat_minor": 2
}
