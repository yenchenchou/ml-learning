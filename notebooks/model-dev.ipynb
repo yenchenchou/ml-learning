{
 "cells": [
  {
   "cell_type": "markdown",
   "metadata": {},
   "source": [
    "## Steps\n",
    "1. Reproducing kaggle https://www.kaggle.com/code/jamesloy/deep-learning-based-recommender-systems\n",
    "2. Recreate all models in neural collaborative filtering"
   ]
  },
  {
   "cell_type": "code",
   "execution_count": 1,
   "metadata": {},
   "outputs": [],
   "source": [
    "import os\n",
    "\n",
    "os.chdir(\"/Users/yenchenchou/Documents/GitHub/mle-career-path\")"
   ]
  },
  {
   "cell_type": "code",
   "execution_count": 2,
   "metadata": {},
   "outputs": [],
   "source": [
    "import random\n",
    "import polars as pl\n",
    "import pandas as pd\n",
    "import numpy as np\n",
    "import torch\n",
    "from torch.utils.data import Dataset, DataLoader\n",
    "from torchvision import datasets"
   ]
  },
  {
   "cell_type": "code",
   "execution_count": 3,
   "metadata": {},
   "outputs": [],
   "source": [
    "from ml.recsys.movielens_data import EnvInit, DataDownloader, DataCleaner, FeatEngineer"
   ]
  },
  {
   "cell_type": "code",
   "execution_count": 4,
   "metadata": {},
   "outputs": [],
   "source": [
    "env_init = EnvInit()\n",
    "seed = env_init.fix_seed(seed=12345)\n",
    "device = env_init.available_device()"
   ]
  },
  {
   "cell_type": "code",
   "execution_count": 5,
   "metadata": {},
   "outputs": [
    {
     "name": "stderr",
     "output_type": "stream",
     "text": [
      "/Users/yenchenchou/Documents/GitHub/mle-career-path/ml/recsys/movielens_data.py:34: ParserWarning: Falling back to the 'python' engine because the 'c' engine does not support regex separators (separators > 1 char and different from '\\s+' are interpreted as regex); you can avoid this warning by specifying engine='python'.\n",
      "  pd.read_table(\n"
     ]
    },
    {
     "data": {
      "text/html": [
       "<div><style>\n",
       ".dataframe > thead > tr,\n",
       ".dataframe > tbody > tr {\n",
       "  text-align: right;\n",
       "  white-space: pre-wrap;\n",
       "}\n",
       "</style>\n",
       "<small>shape: (5, 4)</small><table border=\"1\" class=\"dataframe\"><thead><tr><th>user_id</th><th>movie_id</th><th>rating</th><th>timestamp</th></tr><tr><td>i32</td><td>i32</td><td>i32</td><td>i64</td></tr></thead><tbody><tr><td>1</td><td>3186</td><td>4</td><td>978300019</td></tr><tr><td>1</td><td>1270</td><td>5</td><td>978300055</td></tr><tr><td>1</td><td>1721</td><td>4</td><td>978300055</td></tr><tr><td>1</td><td>1022</td><td>5</td><td>978300055</td></tr><tr><td>1</td><td>2340</td><td>3</td><td>978300103</td></tr></tbody></table></div>"
      ],
      "text/plain": [
       "shape: (5, 4)\n",
       "┌─────────┬──────────┬────────┬───────────┐\n",
       "│ user_id ┆ movie_id ┆ rating ┆ timestamp │\n",
       "│ ---     ┆ ---      ┆ ---    ┆ ---       │\n",
       "│ i32     ┆ i32      ┆ i32    ┆ i64       │\n",
       "╞═════════╪══════════╪════════╪═══════════╡\n",
       "│ 1       ┆ 3186     ┆ 4      ┆ 978300019 │\n",
       "│ 1       ┆ 1270     ┆ 5      ┆ 978300055 │\n",
       "│ 1       ┆ 1721     ┆ 4      ┆ 978300055 │\n",
       "│ 1       ┆ 1022     ┆ 5      ┆ 978300055 │\n",
       "│ 1       ┆ 2340     ┆ 3      ┆ 978300103 │\n",
       "└─────────┴──────────┴────────┴───────────┘"
      ]
     },
     "execution_count": 5,
     "metadata": {},
     "output_type": "execute_result"
    }
   ],
   "source": [
    "downloader = DataDownloader()\n",
    "cleaner = DataCleaner()\n",
    "featengineer = FeatEngineer()\n",
    "df = downloader()\n",
    "df = cleaner(df)\n",
    "df = featengineer(df)\n",
    "df.head()"
   ]
  },
  {
   "cell_type": "code",
   "execution_count": 13,
   "metadata": {},
   "outputs": [
    {
     "data": {
      "text/html": [
       "<div><style>\n",
       ".dataframe > thead > tr,\n",
       ".dataframe > tbody > tr {\n",
       "  text-align: right;\n",
       "  white-space: pre-wrap;\n",
       "}\n",
       "</style>\n",
       "<small>shape: (100, 2)</small><table border=\"1\" class=\"dataframe\"><thead><tr><th>user_id</th><th>movie_id</th></tr><tr><td>i32</td><td>i32</td></tr></thead><tbody><tr><td>1</td><td>914</td></tr><tr><td>1</td><td>1287</td></tr><tr><td>1</td><td>531</td></tr><tr><td>1</td><td>1545</td></tr><tr><td>1</td><td>1566</td></tr><tr><td>2</td><td>1259</td></tr><tr><td>2</td><td>1188</td></tr><tr><td>2</td><td>1792</td></tr><tr><td>2</td><td>2881</td></tr><tr><td>2</td><td>1690</td></tr><tr><td>2</td><td>1544</td></tr><tr><td>1</td><td>260</td></tr><tr><td>&hellip;</td><td>&hellip;</td></tr><tr><td>2</td><td>3107</td></tr><tr><td>1</td><td>2028</td></tr><tr><td>1</td><td>745</td></tr><tr><td>2</td><td>1293</td></tr><tr><td>2</td><td>3578</td></tr><tr><td>2</td><td>2628</td></tr><tr><td>2</td><td>1687</td></tr><tr><td>1</td><td>1836</td></tr><tr><td>1</td><td>720</td></tr><tr><td>1</td><td>1246</td></tr><tr><td>1</td><td>594</td></tr><tr><td>1</td><td>527</td></tr></tbody></table></div>"
      ],
      "text/plain": [
       "shape: (100, 2)\n",
       "┌─────────┬──────────┐\n",
       "│ user_id ┆ movie_id │\n",
       "│ ---     ┆ ---      │\n",
       "│ i32     ┆ i32      │\n",
       "╞═════════╪══════════╡\n",
       "│ 1       ┆ 914      │\n",
       "│ 1       ┆ 1287     │\n",
       "│ 1       ┆ 531      │\n",
       "│ 1       ┆ 1545     │\n",
       "│ …       ┆ …        │\n",
       "│ 1       ┆ 720      │\n",
       "│ 1       ┆ 1246     │\n",
       "│ 1       ┆ 594      │\n",
       "│ 1       ┆ 527      │\n",
       "└─────────┴──────────┘"
      ]
     },
     "execution_count": 13,
     "metadata": {},
     "output_type": "execute_result"
    }
   ],
   "source": [
    "df[[\"user_id\", \"movie_id\"]].unique()"
   ]
  },
  {
   "cell_type": "code",
   "execution_count": 10,
   "metadata": {},
   "outputs": [
    {
     "name": "stdout",
     "output_type": "stream",
     "text": [
      "1 3408\n",
      "1 260\n",
      "1 938\n",
      "1 1097\n",
      "1 914\n",
      "1 661\n",
      "1 531\n",
      "1 2791\n",
      "2 2194\n",
      "2 647\n",
      "2 1188\n",
      "2 3107\n",
      "2 292\n",
      "1 1022\n",
      "1 720\n",
      "1 1962\n",
      "1 150\n",
      "1 2918\n",
      "1 1029\n",
      "1 588\n",
      "1 1\n",
      "2 1357\n",
      "2 1687\n",
      "1 1270\n",
      "1 2340\n",
      "1 2018\n",
      "1 3114\n",
      "1 2294\n",
      "2 1217\n",
      "2 1213\n",
      "2 3147\n",
      "2 1537\n",
      "2 3257\n",
      "2 434\n",
      "1 1193\n",
      "1 2692\n",
      "2 3468\n",
      "2 1610\n",
      "2 2881\n",
      "1 3186\n",
      "1 527\n",
      "2 1253\n",
      "2 3071\n",
      "2 2236\n",
      "2 1792\n",
      "1 1207\n",
      "1 608\n",
      "1 2797\n",
      "1 745\n",
      "2 1210\n",
      "2 3068\n",
      "2 3255\n",
      "2 2916\n",
      "1 919\n",
      "1 1246\n",
      "1 1566\n",
      "1 1907\n",
      "2 3035\n",
      "2 3256\n",
      "1 1836\n",
      "1 2028\n",
      "1 1035\n",
      "1 1287\n",
      "1 2687\n",
      "1 48\n",
      "2 110\n",
      "2 3108\n",
      "2 2490\n",
      "2 1544\n",
      "1 2804\n",
      "1 1028\n",
      "1 2321\n",
      "1 594\n",
      "1 595\n",
      "2 3030\n",
      "1 1197\n",
      "1 1545\n",
      "1 2355\n",
      "2 3105\n",
      "2 902\n",
      "2 2278\n",
      "2 1690\n",
      "2 2126\n",
      "1 3105\n",
      "2 1293\n",
      "2 3471\n",
      "2 2268\n",
      "2 368\n",
      "1 1721\n",
      "1 1961\n",
      "1 2762\n",
      "1 2398\n",
      "1 783\n",
      "2 1834\n",
      "2 1259\n",
      "2 1103\n",
      "2 3578\n",
      "2 589\n",
      "2 648\n",
      "2 2628\n"
     ]
    }
   ],
   "source": [
    "for u, i in df[[\"user_id\", \"movie_id\"]].unique().iter_rows():\n",
    "    print(u, i)"
   ]
  },
  {
   "cell_type": "code",
   "execution_count": 22,
   "metadata": {},
   "outputs": [
    {
     "data": {
      "text/plain": [
       "array([   1,   48,  110,  150,  260,  292,  368,  434,  527,  531,  588,\n",
       "        589,  594,  595,  608,  647,  648,  661,  720,  745,  783,  902,\n",
       "        914,  919,  938, 1022, 1028, 1029, 1035, 1097, 1103, 1188, 1193,\n",
       "       1197, 1207, 1210, 1213, 1217, 1246, 1253, 1259, 1270, 1287, 1293,\n",
       "       1357, 1537, 1544, 1545, 1566, 1610, 1687, 1690, 1721, 1792, 1834,\n",
       "       1836, 1907, 1961, 1962, 2018, 2028, 2126, 2194, 2236, 2268, 2278,\n",
       "       2294, 2321, 2340, 2355, 2398, 2490, 2628, 2687, 2692, 2762, 2791,\n",
       "       2797, 2804, 2881, 2916, 2918, 3030, 3035, 3068, 3071, 3105, 3107,\n",
       "       3108, 3114, 3147, 3186, 3255, 3256, 3257, 3408, 3468, 3471, 3578],\n",
       "      dtype=int32)"
      ]
     },
     "execution_count": 22,
     "metadata": {},
     "output_type": "execute_result"
    }
   ],
   "source": [
    "df[\"movie_id\"].unique().to_numpy().flatten()"
   ]
  },
  {
   "cell_type": "code",
   "execution_count": null,
   "metadata": {},
   "outputs": [],
   "source": [
    "# Get a list of all movie IDs\n",
    " = featengineer.uniq_items\n",
    "\n",
    "# Placeholfers that will hold the training data\n",
    "users, items, labels = [], [], []\n",
    "\n",
    "# This is the set of items that each usesr has interaction with\n",
    "user_item_set = set(zip(train_ratings['userId'],train_ratings['movieId']))\n",
    "\n",
    "# 4:1 ratio of negative to positive samples\n",
    "num_negatives = 4\n",
    "\n",
    "for (u, i) in tqdm(user_item_set):\n",
    "    users.append(u)\n",
    "    items.append(i)\n",
    "    labels.append(1) # items that the user has interacted with are positive\n",
    "    for _ in range(num_negatives):\n",
    "        # randomly select an item\n",
    "        negative_item = np.random.choice(all_movieIds)\n",
    "        # check that the user has not interacted with this item\n",
    "        while (u, negative_item) in user_item_set:\n",
    "            negative_item = np.random.choice(all_movieIds)\n",
    "        users.append(u)\n",
    "        items.append(negative_item)\n",
    "        labels.append(0) # items not interacted with are negative"
   ]
  },
  {
   "cell_type": "code",
   "execution_count": null,
   "metadata": {},
   "outputs": [],
   "source": [
    "import polars as pl\n",
    "import numpy as np\n",
    "from tqdm import tqdm\n",
    "\n",
    "# Assuming 'ratings' and 'train_ratings' are Polars DataFrames\n",
    "# Convert Pandas DataFrame to Polars DataFrame if needed\n",
    "# ratings = pl.from_pandas(ratings)\n",
    "# train_ratings = pl.from_pandas(train_ratings)\n",
    "\n",
    "# Get a list of all unique movie IDs\n",
    "all_movie_ids = featengineer.uniq_items\n",
    "\n",
    "# Create a DataFrame from the user-item interactions\n",
    "user_item_df = train_ratings.select(['userId', 'movieId']).distinct()\n",
    "\n",
    "# 4:1 ratio of negative to positive samples\n",
    "num_negatives = 4\n",
    "\n",
    "# Initialize lists to store the training data\n",
    "users, items, labels = [], [], []\n",
    "\n",
    "for row in tqdm(user_item_df.to_numpy()):\n",
    "    u, i = row\n",
    "    users.append(u)\n",
    "    items.append(i)\n",
    "    labels.append(1)  # Positive sample\n",
    "\n",
    "    # Generate negative samples\n",
    "    negatives = np.random.choice(all_movie_ids, num_negatives * 2)  # Buffer to reduce likelihood of retries\n",
    "    neg_count = 0\n",
    "    for neg in negatives:\n",
    "        if neg_count >= num_negatives:\n",
    "            break\n",
    "        if not user_item_df.filter((pl.col('userId') == u) & (pl.col('movieId') == neg)).to_numpy().size:\n",
    "            users.append(u)\n",
    "            items.append(neg)\n",
    "            labels.append(0)  # Negative sample\n",
    "            neg_count += 1\n",
    "\n",
    "# Convert lists to Polars DataFrame\n",
    "training_data = pl.DataFrame({\n",
    "    'userId': users,\n",
    "    'movieId': items,\n",
    "    'label': labels\n",
    "})\n"
   ]
  }
 ],
 "metadata": {
  "kernelspec": {
   "display_name": "Python 3",
   "language": "python",
   "name": "python3"
  },
  "language_info": {
   "codemirror_mode": {
    "name": "ipython",
    "version": 3
   },
   "file_extension": ".py",
   "mimetype": "text/x-python",
   "name": "python",
   "nbconvert_exporter": "python",
   "pygments_lexer": "ipython3",
   "version": "3.10.13"
  }
 },
 "nbformat": 4,
 "nbformat_minor": 2
}
