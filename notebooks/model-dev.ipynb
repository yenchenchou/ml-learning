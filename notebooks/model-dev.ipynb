{
 "cells": [
  {
   "cell_type": "markdown",
   "metadata": {},
   "source": [
    "## Steps\n",
    "1. Reproducing kaggle https://www.kaggle.com/code/jamesloy/deep-learning-based-recommender-systems\n",
    "2. Recreate all models in neural collaborative filtering"
   ]
  },
  {
   "cell_type": "code",
   "execution_count": 1,
   "metadata": {},
   "outputs": [],
   "source": [
    "import os\n",
    "\n",
    "os.chdir(\"/Users/yenchenchou/Documents/GitHub/recsys-benchmarks\")"
   ]
  },
  {
   "cell_type": "code",
   "execution_count": 2,
   "metadata": {},
   "outputs": [],
   "source": [
    "import random\n",
    "import polars as pl\n",
    "import pandas as pd\n",
    "import numpy as np\n",
    "import torch\n",
    "from torch.utils.data import Dataset, DataLoader\n",
    "from torchvision import datasets"
   ]
  },
  {
   "cell_type": "code",
   "execution_count": 56,
   "metadata": {},
   "outputs": [
    {
     "data": {
      "text/html": [
       "<div><style>\n",
       ".dataframe > thead > tr,\n",
       ".dataframe > tbody > tr {\n",
       "  text-align: right;\n",
       "  white-space: pre-wrap;\n",
       "}\n",
       "</style>\n",
       "<small>shape: (5, 4)</small><table border=\"1\" class=\"dataframe\"><thead><tr><th>user_id</th><th>movie_id</th><th>rating</th><th>timestamp</th></tr><tr><td>i64</td><td>i64</td><td>i64</td><td>i64</td></tr></thead><tbody><tr><td>0</td><td>32</td><td>4</td><td>978824330</td></tr><tr><td>0</td><td>34</td><td>4</td><td>978824330</td></tr><tr><td>0</td><td>4</td><td>5</td><td>978824291</td></tr><tr><td>0</td><td>35</td><td>4</td><td>978824291</td></tr><tr><td>0</td><td>30</td><td>4</td><td>978824291</td></tr></tbody></table></div>"
      ],
      "text/plain": [
       "shape: (5, 4)\n",
       "┌─────────┬──────────┬────────┬───────────┐\n",
       "│ user_id ┆ movie_id ┆ rating ┆ timestamp │\n",
       "│ ---     ┆ ---      ┆ ---    ┆ ---       │\n",
       "│ i64     ┆ i64      ┆ i64    ┆ i64       │\n",
       "╞═════════╪══════════╪════════╪═══════════╡\n",
       "│ 0       ┆ 32       ┆ 4      ┆ 978824330 │\n",
       "│ 0       ┆ 34       ┆ 4      ┆ 978824330 │\n",
       "│ 0       ┆ 4        ┆ 5      ┆ 978824291 │\n",
       "│ 0       ┆ 35       ┆ 4      ┆ 978824291 │\n",
       "│ 0       ┆ 30       ┆ 4      ┆ 978824291 │\n",
       "└─────────┴──────────┴────────┴───────────┘"
      ]
     },
     "execution_count": 56,
     "metadata": {},
     "output_type": "execute_result"
    }
   ],
   "source": [
    "df = pl.read_csv(\n",
    "    \"data/2017-ncf-paper-data/ml-1m.train.rating\",\n",
    "    separator=\"\\t\",\n",
    "    has_header=False,\n",
    "    new_columns=[\"user_id\", \"movie_id\", \"rating\", \"timestamp\"],\n",
    ")\n",
    "df.head()"
   ]
  },
  {
   "cell_type": "code",
   "execution_count": 25,
   "metadata": {},
   "outputs": [
    {
     "data": {
      "text/plain": [
       "(994169, 4)"
      ]
     },
     "execution_count": 25,
     "metadata": {},
     "output_type": "execute_result"
    }
   ],
   "source": [
    "df.shape"
   ]
  },
  {
   "cell_type": "code",
   "execution_count": 49,
   "metadata": {},
   "outputs": [
    {
     "data": {
      "text/html": [
       "<div><style>\n",
       ".dataframe > thead > tr,\n",
       ".dataframe > tbody > tr {\n",
       "  text-align: right;\n",
       "  white-space: pre-wrap;\n",
       "}\n",
       "</style>\n",
       "<small>shape: (6_040, 4)</small><table border=\"1\" class=\"dataframe\"><thead><tr><th>user_id</th><th>movie_id</th><th>rating</th><th>timestamp</th></tr><tr><td>i64</td><td>i64</td><td>i64</td><td>i64</td></tr></thead><tbody><tr><td>0</td><td>32</td><td>4</td><td>978824330</td></tr><tr><td>1</td><td>86</td><td>4</td><td>978300174</td></tr><tr><td>2</td><td>179</td><td>4</td><td>978298486</td></tr><tr><td>3</td><td>210</td><td>4</td><td>978294282</td></tr><tr><td>4</td><td>18</td><td>2</td><td>978246576</td></tr><tr><td>5</td><td>400</td><td>4</td><td>978238948</td></tr><tr><td>6</td><td>430</td><td>4</td><td>978234874</td></tr><tr><td>7</td><td>468</td><td>5</td><td>978233526</td></tr><tr><td>8</td><td>30</td><td>4</td><td>978226678</td></tr><tr><td>9</td><td>434</td><td>3</td><td>980638633</td></tr><tr><td>10</td><td>794</td><td>4</td><td>978908976</td></tr><tr><td>11</td><td>559</td><td>3</td><td>978220237</td></tr><tr><td>&hellip;</td><td>&hellip;</td><td>&hellip;</td><td>&hellip;</td></tr><tr><td>6028</td><td>60</td><td>3</td><td>956722153</td></tr><tr><td>6029</td><td>656</td><td>5</td><td>956719323</td></tr><tr><td>6030</td><td>390</td><td>4</td><td>956718589</td></tr><tr><td>6031</td><td>612</td><td>4</td><td>956719266</td></tr><tr><td>6032</td><td>189</td><td>5</td><td>956714112</td></tr><tr><td>6033</td><td>945</td><td>5</td><td>956712388</td></tr><tr><td>6034</td><td>2054</td><td>1</td><td>956713632</td></tr><tr><td>6035</td><td>3365</td><td>1</td><td>956755196</td></tr><tr><td>6036</td><td>683</td><td>3</td><td>956801840</td></tr><tr><td>6037</td><td>243</td><td>1</td><td>956715051</td></tr><tr><td>6038</td><td>420</td><td>4</td><td>956758029</td></tr><tr><td>6039</td><td>461</td><td>3</td><td>997454486</td></tr></tbody></table></div>"
      ],
      "text/plain": [
       "shape: (6_040, 4)\n",
       "┌─────────┬──────────┬────────┬───────────┐\n",
       "│ user_id ┆ movie_id ┆ rating ┆ timestamp │\n",
       "│ ---     ┆ ---      ┆ ---    ┆ ---       │\n",
       "│ i64     ┆ i64      ┆ i64    ┆ i64       │\n",
       "╞═════════╪══════════╪════════╪═══════════╡\n",
       "│ 0       ┆ 32       ┆ 4      ┆ 978824330 │\n",
       "│ 1       ┆ 86       ┆ 4      ┆ 978300174 │\n",
       "│ 2       ┆ 179      ┆ 4      ┆ 978298486 │\n",
       "│ 3       ┆ 210      ┆ 4      ┆ 978294282 │\n",
       "│ …       ┆ …        ┆ …      ┆ …         │\n",
       "│ 6036    ┆ 683      ┆ 3      ┆ 956801840 │\n",
       "│ 6037    ┆ 243      ┆ 1      ┆ 956715051 │\n",
       "│ 6038    ┆ 420      ┆ 4      ┆ 956758029 │\n",
       "│ 6039    ┆ 461      ┆ 3      ┆ 997454486 │\n",
       "└─────────┴──────────┴────────┴───────────┘"
      ]
     },
     "execution_count": 49,
     "metadata": {},
     "output_type": "execute_result"
    }
   ],
   "source": [
    "df.group_by([\"user_id\"], maintain_order=True).head(n=1)"
   ]
  },
  {
   "cell_type": "code",
   "execution_count": 53,
   "metadata": {},
   "outputs": [
    {
     "ename": "ValueError",
     "evalue": "specified column names do not start with 'column_', but autogenerated header names were requested",
     "output_type": "error",
     "traceback": [
      "\u001b[0;31m---------------------------------------------------------------------------\u001b[0m",
      "\u001b[0;31mValueError\u001b[0m                                Traceback (most recent call last)",
      "Cell \u001b[0;32mIn[53], line 1\u001b[0m\n\u001b[0;32m----> 1\u001b[0m df_test \u001b[38;5;241m=\u001b[39m \u001b[43mpl\u001b[49m\u001b[38;5;241;43m.\u001b[39;49m\u001b[43mread_csv\u001b[49m\u001b[43m(\u001b[49m\n\u001b[1;32m      2\u001b[0m \u001b[43m    \u001b[49m\u001b[38;5;124;43m\"\u001b[39;49m\u001b[38;5;124;43mdata/2017-ncf-paper-data/ml-1m.test.rating\u001b[39;49m\u001b[38;5;124;43m\"\u001b[39;49m\u001b[43m,\u001b[49m\n\u001b[1;32m      3\u001b[0m \u001b[43m    \u001b[49m\u001b[43mseparator\u001b[49m\u001b[38;5;241;43m=\u001b[39;49m\u001b[38;5;124;43m\"\u001b[39;49m\u001b[38;5;130;43;01m\\t\u001b[39;49;00m\u001b[38;5;124;43m\"\u001b[39;49m\u001b[43m,\u001b[49m\n\u001b[1;32m      4\u001b[0m \u001b[43m    \u001b[49m\u001b[43mhas_header\u001b[49m\u001b[38;5;241;43m=\u001b[39;49m\u001b[38;5;28;43;01mFalse\u001b[39;49;00m\u001b[43m,\u001b[49m\n\u001b[1;32m      5\u001b[0m \u001b[43m    \u001b[49m\u001b[43mnew_columns\u001b[49m\u001b[38;5;241;43m=\u001b[39;49m\u001b[43m[\u001b[49m\u001b[38;5;124;43m\"\u001b[39;49m\u001b[38;5;124;43muser_id\u001b[39;49m\u001b[38;5;124;43m\"\u001b[39;49m\u001b[43m,\u001b[49m\u001b[43m \u001b[49m\u001b[38;5;124;43m\"\u001b[39;49m\u001b[38;5;124;43mmovie_id\u001b[39;49m\u001b[38;5;124;43m\"\u001b[39;49m\u001b[43m,\u001b[49m\u001b[43m \u001b[49m\u001b[38;5;124;43m\"\u001b[39;49m\u001b[38;5;124;43mrating\u001b[39;49m\u001b[38;5;124;43m\"\u001b[39;49m\u001b[43m]\u001b[49m\u001b[43m,\u001b[49m\n\u001b[1;32m      6\u001b[0m \u001b[43m    \u001b[49m\u001b[43mcolumns\u001b[49m\u001b[38;5;241;43m=\u001b[39;49m\u001b[43m[\u001b[49m\u001b[38;5;124;43m\"\u001b[39;49m\u001b[38;5;124;43muser_id\u001b[39;49m\u001b[38;5;124;43m\"\u001b[39;49m\u001b[43m,\u001b[49m\u001b[43m \u001b[49m\u001b[38;5;124;43m\"\u001b[39;49m\u001b[38;5;124;43mmovie_id\u001b[39;49m\u001b[38;5;124;43m\"\u001b[39;49m\u001b[43m,\u001b[49m\u001b[43m \u001b[49m\u001b[38;5;124;43m\"\u001b[39;49m\u001b[38;5;124;43mrating\u001b[39;49m\u001b[38;5;124;43m\"\u001b[39;49m\u001b[43m]\u001b[49m\u001b[43m,\u001b[49m\n\u001b[1;32m      7\u001b[0m \u001b[43m    \u001b[49m\u001b[43mschema\u001b[49m\u001b[38;5;241;43m=\u001b[39;49m\u001b[43m{\u001b[49m\u001b[38;5;124;43m\"\u001b[39;49m\u001b[38;5;124;43muser_id\u001b[39;49m\u001b[38;5;124;43m\"\u001b[39;49m\u001b[43m:\u001b[49m\u001b[43m \u001b[49m\u001b[43mpl\u001b[49m\u001b[38;5;241;43m.\u001b[39;49m\u001b[43mInt32\u001b[49m\u001b[43m,\u001b[49m\u001b[43m \u001b[49m\u001b[38;5;124;43m\"\u001b[39;49m\u001b[38;5;124;43mmovie_id\u001b[39;49m\u001b[38;5;124;43m\"\u001b[39;49m\u001b[43m:\u001b[49m\u001b[43m \u001b[49m\u001b[43mpl\u001b[49m\u001b[38;5;241;43m.\u001b[39;49m\u001b[43mInt32\u001b[49m\u001b[43m,\u001b[49m\u001b[43m \u001b[49m\u001b[38;5;124;43m\"\u001b[39;49m\u001b[38;5;124;43mrating\u001b[39;49m\u001b[38;5;124;43m\"\u001b[39;49m\u001b[43m:\u001b[49m\u001b[43m \u001b[49m\u001b[43mpl\u001b[49m\u001b[38;5;241;43m.\u001b[39;49m\u001b[43mInt32\u001b[49m\u001b[43m}\u001b[49m\u001b[43m,\u001b[49m\n\u001b[1;32m      8\u001b[0m \u001b[43m)\u001b[49m\n\u001b[1;32m      9\u001b[0m df_test\u001b[38;5;241m.\u001b[39mhead()\n",
      "File \u001b[0;32m~/miniconda3/envs/ml/lib/python3.10/site-packages/polars/utils/deprecation.py:100\u001b[0m, in \u001b[0;36mdeprecate_renamed_parameter.<locals>.decorate.<locals>.wrapper\u001b[0;34m(*args, **kwargs)\u001b[0m\n\u001b[1;32m     95\u001b[0m \u001b[38;5;129m@wraps\u001b[39m(function)\n\u001b[1;32m     96\u001b[0m \u001b[38;5;28;01mdef\u001b[39;00m \u001b[38;5;21mwrapper\u001b[39m(\u001b[38;5;241m*\u001b[39margs: P\u001b[38;5;241m.\u001b[39margs, \u001b[38;5;241m*\u001b[39m\u001b[38;5;241m*\u001b[39mkwargs: P\u001b[38;5;241m.\u001b[39mkwargs) \u001b[38;5;241m-\u001b[39m\u001b[38;5;241m>\u001b[39m T:\n\u001b[1;32m     97\u001b[0m     _rename_keyword_argument(\n\u001b[1;32m     98\u001b[0m         old_name, new_name, kwargs, function\u001b[38;5;241m.\u001b[39m\u001b[38;5;18m__name__\u001b[39m, version\n\u001b[1;32m     99\u001b[0m     )\n\u001b[0;32m--> 100\u001b[0m     \u001b[38;5;28;01mreturn\u001b[39;00m \u001b[43mfunction\u001b[49m\u001b[43m(\u001b[49m\u001b[38;5;241;43m*\u001b[39;49m\u001b[43margs\u001b[49m\u001b[43m,\u001b[49m\u001b[43m \u001b[49m\u001b[38;5;241;43m*\u001b[39;49m\u001b[38;5;241;43m*\u001b[39;49m\u001b[43mkwargs\u001b[49m\u001b[43m)\u001b[49m\n",
      "File \u001b[0;32m~/miniconda3/envs/ml/lib/python3.10/site-packages/polars/io/csv/functions.py:201\u001b[0m, in \u001b[0;36mread_csv\u001b[0;34m(source, has_header, columns, new_columns, separator, comment_prefix, quote_char, skip_rows, dtypes, schema, null_values, missing_utf8_is_empty_string, ignore_errors, try_parse_dates, n_threads, infer_schema_length, batch_size, n_rows, encoding, low_memory, rechunk, use_pyarrow, storage_options, skip_rows_after_header, row_count_name, row_count_offset, sample_size, eol_char, raise_if_empty, truncate_ragged_lines)\u001b[0m\n\u001b[1;32m    199\u001b[0m     \u001b[38;5;28;01mfor\u001b[39;00m column \u001b[38;5;129;01min\u001b[39;00m columns:\n\u001b[1;32m    200\u001b[0m         \u001b[38;5;28;01mif\u001b[39;00m \u001b[38;5;129;01mnot\u001b[39;00m column\u001b[38;5;241m.\u001b[39mstartswith(\u001b[38;5;124m\"\u001b[39m\u001b[38;5;124mcolumn_\u001b[39m\u001b[38;5;124m\"\u001b[39m):\n\u001b[0;32m--> 201\u001b[0m             \u001b[38;5;28;01mraise\u001b[39;00m \u001b[38;5;167;01mValueError\u001b[39;00m(\n\u001b[1;32m    202\u001b[0m                 \u001b[38;5;124m\"\u001b[39m\u001b[38;5;124mspecified column names do not start with \u001b[39m\u001b[38;5;124m'\u001b[39m\u001b[38;5;124mcolumn_\u001b[39m\u001b[38;5;124m'\u001b[39m\u001b[38;5;124m,\u001b[39m\u001b[38;5;124m\"\u001b[39m\n\u001b[1;32m    203\u001b[0m                 \u001b[38;5;124m\"\u001b[39m\u001b[38;5;124m but autogenerated header names were requested\u001b[39m\u001b[38;5;124m\"\u001b[39m\n\u001b[1;32m    204\u001b[0m             )\n\u001b[1;32m    206\u001b[0m \u001b[38;5;28;01mif\u001b[39;00m (\n\u001b[1;32m    207\u001b[0m     use_pyarrow\n\u001b[1;32m    208\u001b[0m     \u001b[38;5;129;01mand\u001b[39;00m dtypes \u001b[38;5;129;01mis\u001b[39;00m \u001b[38;5;28;01mNone\u001b[39;00m\n\u001b[0;32m   (...)\u001b[0m\n\u001b[1;32m    212\u001b[0m     \u001b[38;5;129;01mand\u001b[39;00m null_values \u001b[38;5;129;01mis\u001b[39;00m \u001b[38;5;28;01mNone\u001b[39;00m\n\u001b[1;32m    213\u001b[0m ):\n\u001b[1;32m    214\u001b[0m     include_columns: Sequence[\u001b[38;5;28mstr\u001b[39m] \u001b[38;5;241m|\u001b[39m \u001b[38;5;28;01mNone\u001b[39;00m \u001b[38;5;241m=\u001b[39m \u001b[38;5;28;01mNone\u001b[39;00m\n",
      "\u001b[0;31mValueError\u001b[0m: specified column names do not start with 'column_', but autogenerated header names were requested"
     ]
    }
   ],
   "source": [
    "df_test = pl.read_csv(\n",
    "    \"data/2017-ncf-paper-data/ml-1m.test.rating\",\n",
    "    separator=\"\\t\",\n",
    "    has_header=False,\n",
    "    new_columns=[\"user_id\", \"movie_id\", \"rating\"],\n",
    "    schema={\"user_id\": pl.Int32, \"movie_id\": pl.Int32, \"rating\": pl.Int32},\n",
    ")\n",
    "df_test.head()"
   ]
  },
  {
   "cell_type": "code",
   "execution_count": 27,
   "metadata": {},
   "outputs": [
    {
     "data": {
      "text/plain": [
       "(994169, 3)"
      ]
     },
     "execution_count": 27,
     "metadata": {},
     "output_type": "execute_result"
    }
   ],
   "source": [
    "df_test.shape"
   ]
  },
  {
   "cell_type": "code",
   "execution_count": 28,
   "metadata": {},
   "outputs": [
    {
     "data": {
      "text/html": [
       "<div><style>\n",
       ".dataframe > thead > tr,\n",
       ".dataframe > tbody > tr {\n",
       "  text-align: right;\n",
       "  white-space: pre-wrap;\n",
       "}\n",
       "</style>\n",
       "<small>shape: (5, 100)</small><table border=\"1\" class=\"dataframe\"><thead><tr><th>column_1</th><th>column_2</th><th>column_3</th><th>column_4</th><th>column_5</th><th>column_6</th><th>column_7</th><th>column_8</th><th>column_9</th><th>column_10</th><th>column_11</th><th>column_12</th><th>column_13</th><th>column_14</th><th>column_15</th><th>column_16</th><th>column_17</th><th>column_18</th><th>column_19</th><th>column_20</th><th>column_21</th><th>column_22</th><th>column_23</th><th>column_24</th><th>column_25</th><th>column_26</th><th>column_27</th><th>column_28</th><th>column_29</th><th>column_30</th><th>column_31</th><th>column_32</th><th>column_33</th><th>column_34</th><th>column_35</th><th>column_36</th><th>column_37</th><th>&hellip;</th><th>column_64</th><th>column_65</th><th>column_66</th><th>column_67</th><th>column_68</th><th>column_69</th><th>column_70</th><th>column_71</th><th>column_72</th><th>column_73</th><th>column_74</th><th>column_75</th><th>column_76</th><th>column_77</th><th>column_78</th><th>column_79</th><th>column_80</th><th>column_81</th><th>column_82</th><th>column_83</th><th>column_84</th><th>column_85</th><th>column_86</th><th>column_87</th><th>column_88</th><th>column_89</th><th>column_90</th><th>column_91</th><th>column_92</th><th>column_93</th><th>column_94</th><th>column_95</th><th>column_96</th><th>column_97</th><th>column_98</th><th>column_99</th><th>column_100</th></tr><tr><td>str</td><td>i64</td><td>i64</td><td>i64</td><td>i64</td><td>i64</td><td>i64</td><td>i64</td><td>i64</td><td>i64</td><td>i64</td><td>i64</td><td>i64</td><td>i64</td><td>i64</td><td>i64</td><td>i64</td><td>i64</td><td>i64</td><td>i64</td><td>i64</td><td>i64</td><td>i64</td><td>i64</td><td>i64</td><td>i64</td><td>i64</td><td>i64</td><td>i64</td><td>i64</td><td>i64</td><td>i64</td><td>i64</td><td>i64</td><td>i64</td><td>i64</td><td>i64</td><td>&hellip;</td><td>i64</td><td>i64</td><td>i64</td><td>i64</td><td>i64</td><td>i64</td><td>i64</td><td>i64</td><td>i64</td><td>i64</td><td>i64</td><td>i64</td><td>i64</td><td>i64</td><td>i64</td><td>i64</td><td>i64</td><td>i64</td><td>i64</td><td>i64</td><td>i64</td><td>i64</td><td>i64</td><td>i64</td><td>i64</td><td>i64</td><td>i64</td><td>i64</td><td>i64</td><td>i64</td><td>i64</td><td>i64</td><td>i64</td><td>i64</td><td>i64</td><td>i64</td><td>i64</td></tr></thead><tbody><tr><td>&quot;(0,25)&quot;</td><td>1064</td><td>174</td><td>2791</td><td>3373</td><td>269</td><td>2678</td><td>1902</td><td>3641</td><td>1216</td><td>915</td><td>3672</td><td>2803</td><td>2344</td><td>986</td><td>3217</td><td>2824</td><td>2598</td><td>464</td><td>2340</td><td>1952</td><td>1855</td><td>1353</td><td>1547</td><td>3487</td><td>3293</td><td>1541</td><td>2414</td><td>2728</td><td>340</td><td>1421</td><td>1963</td><td>2545</td><td>972</td><td>487</td><td>3463</td><td>2727</td><td>&hellip;</td><td>1770</td><td>881</td><td>1913</td><td>1803</td><td>1734</td><td>3326</td><td>1617</td><td>224</td><td>3352</td><td>1869</td><td>1182</td><td>1331</td><td>336</td><td>2517</td><td>1721</td><td>3512</td><td>3656</td><td>273</td><td>1026</td><td>1991</td><td>2190</td><td>998</td><td>3386</td><td>3369</td><td>185</td><td>2822</td><td>864</td><td>2854</td><td>3067</td><td>58</td><td>2551</td><td>2333</td><td>2688</td><td>3703</td><td>1300</td><td>1924</td><td>3118</td></tr><tr><td>&quot;(1,133)&quot;</td><td>1072</td><td>3154</td><td>3368</td><td>3644</td><td>549</td><td>1810</td><td>937</td><td>1514</td><td>1713</td><td>2186</td><td>660</td><td>2303</td><td>2416</td><td>670</td><td>1176</td><td>788</td><td>889</td><td>3120</td><td>2344</td><td>2525</td><td>3301</td><td>2055</td><td>1436</td><td>2630</td><td>11</td><td>2773</td><td>2176</td><td>1847</td><td>740</td><td>2332</td><td>3561</td><td>263</td><td>3658</td><td>3282</td><td>1980</td><td>2093</td><td>&hellip;</td><td>3540</td><td>3341</td><td>2973</td><td>1580</td><td>2118</td><td>3511</td><td>526</td><td>1719</td><td>525</td><td>1520</td><td>486</td><td>557</td><td>1353</td><td>500</td><td>2902</td><td>1687</td><td>1295</td><td>2997</td><td>2415</td><td>797</td><td>2518</td><td>926</td><td>3537</td><td>1746</td><td>1676</td><td>1875</td><td>3029</td><td>1535</td><td>341</td><td>3525</td><td>1429</td><td>2225</td><td>1628</td><td>2061</td><td>469</td><td>3056</td><td>2553</td></tr><tr><td>&quot;(2,207)&quot;</td><td>2216</td><td>209</td><td>2347</td><td>3</td><td>1652</td><td>3397</td><td>383</td><td>2905</td><td>2284</td><td>2866</td><td>584</td><td>783</td><td>3208</td><td>1534</td><td>2529</td><td>1907</td><td>1170</td><td>3037</td><td>2015</td><td>1045</td><td>3099</td><td>3298</td><td>2522</td><td>739</td><td>2652</td><td>3702</td><td>792</td><td>2527</td><td>1945</td><td>2333</td><td>1668</td><td>3511</td><td>70</td><td>1991</td><td>3071</td><td>2474</td><td>&hellip;</td><td>2831</td><td>1548</td><td>1630</td><td>2227</td><td>2352</td><td>760</td><td>350</td><td>302</td><td>791</td><td>300</td><td>3528</td><td>1444</td><td>2</td><td>798</td><td>997</td><td>376</td><td>2565</td><td>1565</td><td>718</td><td>710</td><td>2695</td><td>904</td><td>3643</td><td>655</td><td>3666</td><td>3069</td><td>3661</td><td>953</td><td>865</td><td>813</td><td>1353</td><td>2945</td><td>2580</td><td>2989</td><td>2790</td><td>2879</td><td>2481</td></tr><tr><td>&quot;(3,208)&quot;</td><td>3023</td><td>1489</td><td>1916</td><td>1706</td><td>1221</td><td>1191</td><td>2671</td><td>81</td><td>2483</td><td>941</td><td>841</td><td>1617</td><td>1437</td><td>2700</td><td>1904</td><td>1763</td><td>1181</td><td>599</td><td>2442</td><td>1656</td><td>1370</td><td>1171</td><td>1372</td><td>1444</td><td>1596</td><td>2023</td><td>1456</td><td>2179</td><td>530</td><td>1949</td><td>2628</td><td>290</td><td>1996</td><td>2593</td><td>2489</td><td>3484</td><td>&hellip;</td><td>2007</td><td>1937</td><td>2244</td><td>55</td><td>1016</td><td>2382</td><td>2506</td><td>3501</td><td>914</td><td>3127</td><td>23</td><td>3187</td><td>799</td><td>2572</td><td>1038</td><td>3028</td><td>2619</td><td>1429</td><td>2623</td><td>2158</td><td>2785</td><td>3674</td><td>2578</td><td>1837</td><td>1689</td><td>296</td><td>959</td><td>3347</td><td>1707</td><td>2901</td><td>2767</td><td>2167</td><td>1921</td><td>247</td><td>1618</td><td>2016</td><td>2323</td></tr><tr><td>&quot;(4,222)&quot;</td><td>1794</td><td>3535</td><td>108</td><td>593</td><td>466</td><td>2048</td><td>854</td><td>1378</td><td>1301</td><td>697</td><td>1376</td><td>22</td><td>2135</td><td>3657</td><td>3173</td><td>1322</td><td>976</td><td>6</td><td>1399</td><td>817</td><td>2757</td><td>2010</td><td>652</td><td>458</td><td>1227</td><td>204</td><td>592</td><td>2875</td><td>1930</td><td>2251</td><td>1654</td><td>2542</td><td>1149</td><td>3089</td><td>454</td><td>2466</td><td>&hellip;</td><td>2524</td><td>932</td><td>3327</td><td>187</td><td>2575</td><td>1674</td><td>557</td><td>2547</td><td>1572</td><td>776</td><td>1600</td><td>2682</td><td>2085</td><td>1987</td><td>1390</td><td>614</td><td>3098</td><td>1831</td><td>927</td><td>2285</td><td>1059</td><td>2850</td><td>3517</td><td>134</td><td>1852</td><td>2776</td><td>1694</td><td>2490</td><td>1332</td><td>2526</td><td>2804</td><td>2027</td><td>833</td><td>176</td><td>463</td><td>2851</td><td>2453</td></tr></tbody></table></div>"
      ],
      "text/plain": [
       "shape: (5, 100)\n",
       "┌──────────┬──────────┬──────────┬──────────┬───┬───────────┬───────────┬───────────┬────────────┐\n",
       "│ column_1 ┆ column_2 ┆ column_3 ┆ column_4 ┆ … ┆ column_97 ┆ column_98 ┆ column_99 ┆ column_100 │\n",
       "│ ---      ┆ ---      ┆ ---      ┆ ---      ┆   ┆ ---       ┆ ---       ┆ ---       ┆ ---        │\n",
       "│ str      ┆ i64      ┆ i64      ┆ i64      ┆   ┆ i64       ┆ i64       ┆ i64       ┆ i64        │\n",
       "╞══════════╪══════════╪══════════╪══════════╪═══╪═══════════╪═══════════╪═══════════╪════════════╡\n",
       "│ (0,25)   ┆ 1064     ┆ 174      ┆ 2791     ┆ … ┆ 3703      ┆ 1300      ┆ 1924      ┆ 3118       │\n",
       "│ (1,133)  ┆ 1072     ┆ 3154     ┆ 3368     ┆ … ┆ 2061      ┆ 469       ┆ 3056      ┆ 2553       │\n",
       "│ (2,207)  ┆ 2216     ┆ 209      ┆ 2347     ┆ … ┆ 2989      ┆ 2790      ┆ 2879      ┆ 2481       │\n",
       "│ (3,208)  ┆ 3023     ┆ 1489     ┆ 1916     ┆ … ┆ 247       ┆ 1618      ┆ 2016      ┆ 2323       │\n",
       "│ (4,222)  ┆ 1794     ┆ 3535     ┆ 108      ┆ … ┆ 176       ┆ 463       ┆ 2851      ┆ 2453       │\n",
       "└──────────┴──────────┴──────────┴──────────┴───┴───────────┴───────────┴───────────┴────────────┘"
      ]
     },
     "execution_count": 28,
     "metadata": {},
     "output_type": "execute_result"
    }
   ],
   "source": [
    "df_test_negative = pl.read_csv(\n",
    "    \"data/2017-ncf-paper-data/ml-1m.test.negative\",\n",
    "    separator=\"\\t\",\n",
    "    has_header=False,\n",
    ")\n",
    "df_test_negative.head()"
   ]
  },
  {
   "cell_type": "code",
   "execution_count": 29,
   "metadata": {},
   "outputs": [
    {
     "data": {
      "text/plain": [
       "(6040, 100)"
      ]
     },
     "execution_count": 29,
     "metadata": {},
     "output_type": "execute_result"
    }
   ],
   "source": [
    "df_test_negative.shape"
   ]
  },
  {
   "cell_type": "code",
   "execution_count": 45,
   "metadata": {},
   "outputs": [],
   "source": [
    "from ast import literal_eval\n",
    "neg_users, neg_items = [], []\n",
    "with open(\"data/2017-ncf-paper-data/ml-1m.test.negative\", \"r\") as f:\n",
    "    line = f.readline()\n",
    "    while line != None and line != \"\":\n",
    "        arr = line.split(\"\\t\")\n",
    "        user = literal_eval(arr[0])[0]\n",
    "        negatives = [int(item) for item in arr[1:]]\n",
    "        users = [user] * len(negatives)\n",
    "        neg_users.extend(users)\n",
    "        neg_items.extend(negatives)\n",
    "        line = f.readline()\n",
    "df_tmp = pl.DataFrame(\n",
    "    {\n",
    "        \"user_id\": neg_users,\n",
    "        \"movie_id\": neg_items,\n",
    "        \"rating\": [0] * len(neg_items),\n",
    "    }\n",
    ")"
   ]
  },
  {
   "cell_type": "code",
   "execution_count": 3,
   "metadata": {},
   "outputs": [],
   "source": [
    "from torch import tensor\n",
    "from torchmetrics.retrieval import RetrievalPrecision"
   ]
  },
  {
   "cell_type": "code",
   "execution_count": 7,
   "metadata": {},
   "outputs": [
    {
     "data": {
      "text/plain": [
       "tensor(0.5000)"
      ]
     },
     "execution_count": 7,
     "metadata": {},
     "output_type": "execute_result"
    }
   ],
   "source": [
    "indexes = tensor([0, 0, 0, 1, 1, 1, 1])\n",
    "preds = tensor([0.2, 0.3, 0.5, 0.1, 0.3, 0.5, 0.2])\n",
    "target = tensor([False, False, True, False, True, False, True])\n",
    "p2 = RetrievalPrecision(top_k=2, aggregation=\"mean\")\n",
    "p2(preds, target, indexes=indexes)\n"
   ]
  },
  {
   "cell_type": "code",
   "execution_count": null,
   "metadata": {},
   "outputs": [],
   "source": []
  }
 ],
 "metadata": {
  "kernelspec": {
   "display_name": "Python 3",
   "language": "python",
   "name": "python3"
  },
  "language_info": {
   "codemirror_mode": {
    "name": "ipython",
    "version": 3
   },
   "file_extension": ".py",
   "mimetype": "text/x-python",
   "name": "python",
   "nbconvert_exporter": "python",
   "pygments_lexer": "ipython3",
   "version": "3.10.13"
  }
 },
 "nbformat": 4,
 "nbformat_minor": 2
}
