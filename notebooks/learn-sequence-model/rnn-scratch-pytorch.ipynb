{
 "cells": [
  {
   "cell_type": "code",
   "execution_count": 89,
   "metadata": {},
   "outputs": [],
   "source": [
    "import os\n",
    "os.chdir(\"/Users/yenchenchou/Documents/GitHub/ml-learning\")"
   ]
  },
  {
   "cell_type": "code",
   "execution_count": 90,
   "metadata": {},
   "outputs": [],
   "source": [
    "import torch\n",
    "import torch.nn as nn\n",
    "import numpy as np\n",
    "import random"
   ]
  },
  {
   "cell_type": "code",
   "execution_count": 91,
   "metadata": {},
   "outputs": [],
   "source": [
    "class EnvInit:\n",
    "    def available_device(self) -> torch.device:\n",
    "        if torch.backends.mps.is_available():\n",
    "            device = torch.device(\"mps\")\n",
    "        elif torch.cuda.is_available():\n",
    "            device = torch.device(\"cuda\")\n",
    "        else:\n",
    "            device = torch.device(\"cpu\")\n",
    "        return device\n",
    "\n",
    "    def fix_seed(self, seed: int) -> int:\n",
    "        torch.manual_seed(seed)\n",
    "        random.seed(seed)\n",
    "        np.random.seed(seed)\n",
    "        if torch.cuda.is_available():\n",
    "            torch.cuda.manual_seed(seed)\n",
    "            torch.cuda.manual_seed_all(seed)\n",
    "        if torch.backends.mps.is_available():\n",
    "            torch.mps.manual_seed(seed)\n",
    "        return seed"
   ]
  },
  {
   "cell_type": "code",
   "execution_count": 92,
   "metadata": {},
   "outputs": [],
   "source": [
    "class MyRNNCell(nn.Module):\n",
    "    \"\"\"\n",
    "    Custom RNN implementation that follows PyTorch's API.\n",
    "\n",
    "    (1) ht = tanh(Ht-1 @ Whh + bhh + X @ Wih + bih)\n",
    "\n",
    "    The implementation uses the following notation:\n",
    "        - Ht-1: Previous hidden state\n",
    "        - X: Current input\n",
    "        - Whh: Weight for hidden state\n",
    "        - Wih: Weight for input state\n",
    "    \"\"\"\n",
    "\n",
    "    def __init__(\n",
    "        self, input_size: int, hidden_size: int, batch_first: bool, bias: bool\n",
    "    ):\n",
    "        super(MyRNNCell, self).__init__()\n",
    "        self.batch_first = batch_first\n",
    "        self.input_size = input_size\n",
    "        self.hidden_size = hidden_size\n",
    "        self.w_ih = nn.Linear(input_size, hidden_size, bias)\n",
    "        self.w_hh = nn.Linear(hidden_size, hidden_size, bias)\n",
    "\n",
    "    def forward(self, X: torch.tensor, ho=None):\n",
    "        if self.batch_first:\n",
    "            X = X.transpose(0, 1)\n",
    "        if ho is None:\n",
    "            batch_size = X.size(1)\n",
    "            ho = torch.zeros(batch_size, self.hidden_size).unsqueeze(0)\n",
    "        h_t = self.w_hh(ho)\n",
    "        output = torch.tanh(self.w_ih(X) + h_t)\n",
    "        if self.batch_first:\n",
    "            output = output.transpose(0, 1)\n",
    "        return output, h_t"
   ]
  },
  {
   "cell_type": "code",
   "execution_count": 93,
   "metadata": {},
   "outputs": [],
   "source": [
    "env_init = EnvInit()\n",
    "seed = env_init.fix_seed(12345)\n",
    "\n",
    "# Initialize models\n",
    "x = torch.ones(2, 3, 2)  # batch, seq_length, input_size\n",
    "h_0 = torch.zeros(2, 4).unsqueeze(0)  # batch_size, hidden_size -> 1(one_directional), batch_size, hidden_size\n",
    "input_size = x.size(-1)\n",
    "hidden_size = h_0.size(-1)\n",
    "rnn_v1 = MyTorchRNN(input_size, hidden_size, batch_first=True)\n",
    "output, ht = rnn_v1(x, h_0)"
   ]
  },
  {
   "cell_type": "code",
   "execution_count": 97,
   "metadata": {},
   "outputs": [
    {
     "data": {
      "text/plain": [
       "(tensor([[[ 0.8391,  0.5655, -0.7795, -0.0916],\n",
       "          [ 0.8391,  0.5655, -0.7795, -0.0916],\n",
       "          [ 0.8391,  0.5655, -0.7795, -0.0916]],\n",
       " \n",
       "         [[ 0.8391,  0.5655, -0.7795, -0.0916],\n",
       "          [ 0.8391,  0.5655, -0.7795, -0.0916],\n",
       "          [ 0.8391,  0.5655, -0.7795, -0.0916]]], grad_fn=<TransposeBackward0>),\n",
       " torch.Size([2, 3, 4]))"
      ]
     },
     "execution_count": 97,
     "metadata": {},
     "output_type": "execute_result"
    }
   ],
   "source": [
    "output, output.size()"
   ]
  },
  {
   "cell_type": "code",
   "execution_count": null,
   "metadata": {},
   "outputs": [],
   "source": []
  }
 ],
 "metadata": {
  "kernelspec": {
   "display_name": "ml",
   "language": "python",
   "name": "python3"
  },
  "language_info": {
   "codemirror_mode": {
    "name": "ipython",
    "version": 3
   },
   "file_extension": ".py",
   "mimetype": "text/x-python",
   "name": "python",
   "nbconvert_exporter": "python",
   "pygments_lexer": "ipython3",
   "version": "3.1.undefined"
  }
 },
 "nbformat": 4,
 "nbformat_minor": 2
}
